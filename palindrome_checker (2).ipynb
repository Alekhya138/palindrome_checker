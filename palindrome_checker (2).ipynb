{
  "nbformat": 4,
  "nbformat_minor": 0,
  "metadata": {
    "colab": {
      "provenance": []
    },
    "kernelspec": {
      "name": "python3",
      "display_name": "Python 3"
    },
    "language_info": {
      "name": "python"
    }
  },
  "cells": [
    {
      "cell_type": "code",
      "execution_count": 1,
      "metadata": {
        "colab": {
          "base_uri": "https://localhost:8080/"
        },
        "id": "f_MPReWh5BiY",
        "outputId": "e9d7a2cc-089d-4893-d299-55690355108a"
      },
      "outputs": [
        {
          "output_type": "stream",
          "name": "stdout",
          "text": [
            "/content\n"
          ]
        }
      ],
      "source": [
        "!pwd\n"
      ]
    },
    {
      "cell_type": "code",
      "source": [
        "n = input()\n",
        "n = n.lower()\n",
        "clean = \"\"\n",
        "for ch in n :\n",
        "  if ch.isalnum() :\n",
        "    clean += ch\n",
        "\n",
        "if clean == clean[::-1] :\n",
        "  print(\"palindrome\")\n",
        "else :\n",
        "  print(\"Not a palindrome\")"
      ],
      "metadata": {
        "colab": {
          "base_uri": "https://localhost:8080/"
        },
        "id": "M9sMB7qk5kYK",
        "outputId": "be30672b-1f97-43db-c6af-36816066fd07"
      },
      "execution_count": 7,
      "outputs": [
        {
          "output_type": "stream",
          "name": "stdout",
          "text": [
            "A man , a plan, a canal:Panama\n",
            "palindrome\n"
          ]
        }
      ]
    }
  ]
}